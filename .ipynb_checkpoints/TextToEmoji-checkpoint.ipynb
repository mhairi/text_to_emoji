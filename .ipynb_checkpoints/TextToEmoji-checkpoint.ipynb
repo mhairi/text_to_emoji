{
 "metadata": {
  "name": "",
  "signature": "sha256:2db5b4080121d5fdea7c9f1683d4e5493e017d8c945b09e9728ea933cebe58b0"
 },
 "nbformat": 3,
 "nbformat_minor": 0,
 "worksheets": [
  {
   "cells": [
    {
     "cell_type": "code",
     "collapsed": false,
     "input": [
      "import tweepy\n",
      "import csv\n",
      "import collections\n",
      "import string\n",
      "import re"
     ],
     "language": "python",
     "metadata": {},
     "outputs": [],
     "prompt_number": 2
    },
    {
     "cell_type": "code",
     "collapsed": false,
     "input": [
      "convert = dict()\n",
      "with open('conversionTable.csv', 'r') as csvfile:\n",
      "    reader = csv.reader(csvfile)\n",
      "    for row in reader:\n",
      "        words = row[3:] #words are stored from third row onwards\n",
      "        for word in words:\n",
      "            if word != '':\n",
      "                convert[word] = row[0] #emoji code is stored in first row"
     ],
     "language": "python",
     "metadata": {},
     "outputs": [],
     "prompt_number": 3
    },
    {
     "cell_type": "code",
     "collapsed": false,
     "input": [
      "def to_character(string):\n",
      "    \"\"\"Takes a string which represents a unicode character and converts into that character\"\"\"\n",
      "    num = string[2:]\n",
      "    hex_num = int(num, 16)\n",
      "    return chr(hex_num)"
     ],
     "language": "python",
     "metadata": {},
     "outputs": [],
     "prompt_number": 4
    },
    {
     "cell_type": "code",
     "collapsed": true,
     "input": [
      "convert = {key.lower():to_character(code) for key,code in convert.items()}"
     ],
     "language": "python",
     "metadata": {},
     "outputs": [],
     "prompt_number": 5
    },
    {
     "cell_type": "code",
     "collapsed": false,
     "input": [
      "def text_to_emoji(string):\n",
      "    \"\"\"Takes a string and converts any words that can be converted to emojis\"\"\"\n",
      "    return re.sub(\"\\w+\", word_to_emoji, string)"
     ],
     "language": "python",
     "metadata": {},
     "outputs": [],
     "prompt_number": 6
    },
    {
     "cell_type": "code",
     "collapsed": false,
     "input": [
      "def word_to_emoji(match):\n",
      "    \"\"\"Takes a re match object and converts to to emoji if possible, otherwise returns the origional word\"\"\"\n",
      "    word = match.group()\n",
      "    lower_case = word.lower()\n",
      "    if lower_case in convert.keys():\n",
      "        return convert[lower_case]\n",
      "    else:\n",
      "        return word"
     ],
     "language": "python",
     "metadata": {},
     "outputs": [],
     "prompt_number": 8
    },
    {
     "cell_type": "code",
     "collapsed": false,
     "input": [
      "text_to_emoji(\"Man, I love my boat so much I could kiss it!\")"
     ],
     "language": "python",
     "metadata": {},
     "outputs": [
      {
       "metadata": {},
       "output_type": "pyout",
       "prompt_number": 12,
       "text": [
        "'\ud83d\udc68, I \ud83d\ude0d my \u26f5 so much I could \ud83d\udc8b it!'"
       ]
      }
     ],
     "prompt_number": 12
    },
    {
     "cell_type": "code",
     "collapsed": false,
     "input": [
      "text_to_emoji(\"I wish I had a cake the size of a mountain!\")"
     ],
     "language": "python",
     "metadata": {},
     "outputs": [
      {
       "metadata": {},
       "output_type": "pyout",
       "prompt_number": 9,
       "text": [
        "'I wish I had a \ud83c\udf82 the size of a \ud83d\ude9e!'"
       ]
      }
     ],
     "prompt_number": 9
    },
    {
     "cell_type": "code",
     "collapsed": false,
     "input": [
      "text_to_emoji(\"Shopping list: aubergine, banana, tiger\")"
     ],
     "language": "python",
     "metadata": {},
     "outputs": [
      {
       "metadata": {},
       "output_type": "pyout",
       "prompt_number": 10,
       "text": [
        "'Shopping list: \ud83c\udf46, \ud83c\udf4c, \ud83d\udc05'"
       ]
      }
     ],
     "prompt_number": 10
    },
    {
     "cell_type": "code",
     "collapsed": false,
     "input": [
      "text_to_emoji(\"Love you baby\")"
     ],
     "language": "python",
     "metadata": {},
     "outputs": [
      {
       "metadata": {},
       "output_type": "pyout",
       "prompt_number": 11,
       "text": [
        "'\ud83d\ude0d you \ud83c\udf7c'"
       ]
      }
     ],
     "prompt_number": 11
    }
   ],
   "metadata": {}
  }
 ]
}