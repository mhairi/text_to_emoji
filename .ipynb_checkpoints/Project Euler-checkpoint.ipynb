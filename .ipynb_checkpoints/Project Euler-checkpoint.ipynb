{
 "metadata": {
  "name": "",
  "signature": "sha256:7a00d3f9514031e006959614ee8291f356caffb2d0b3544d36b3af5779ca2c58"
 },
 "nbformat": 3,
 "nbformat_minor": 0,
 "worksheets": [
  {
   "cells": [
    {
     "cell_type": "code",
     "collapsed": false,
     "input": [
      "import itertools"
     ],
     "language": "python",
     "metadata": {},
     "outputs": [],
     "prompt_number": 2
    },
    {
     "cell_type": "code",
     "collapsed": false,
     "input": [
      "def slice_divisible(p, start, end, divisor):\n",
      "    return int(p[start:end])"
     ],
     "language": "python",
     "metadata": {},
     "outputs": [],
     "prompt_number": 13
    },
    {
     "cell_type": "code",
     "collapsed": false,
     "input": [],
     "language": "python",
     "metadata": {},
     "outputs": []
    },
    {
     "cell_type": "code",
     "collapsed": false,
     "input": [
      "[p for p in itertools.permutations('0123456789')][20:30]\n",
      "    "
     ],
     "language": "python",
     "metadata": {},
     "outputs": [
      {
       "metadata": {},
       "output_type": "pyout",
       "prompt_number": 12,
       "text": [
        "[('0', '1', '2', '3', '4', '5', '9', '7', '6', '8'),\n",
        " ('0', '1', '2', '3', '4', '5', '9', '7', '8', '6'),\n",
        " ('0', '1', '2', '3', '4', '5', '9', '8', '6', '7'),\n",
        " ('0', '1', '2', '3', '4', '5', '9', '8', '7', '6'),\n",
        " ('0', '1', '2', '3', '4', '6', '5', '7', '8', '9'),\n",
        " ('0', '1', '2', '3', '4', '6', '5', '7', '9', '8'),\n",
        " ('0', '1', '2', '3', '4', '6', '5', '8', '7', '9'),\n",
        " ('0', '1', '2', '3', '4', '6', '5', '8', '9', '7'),\n",
        " ('0', '1', '2', '3', '4', '6', '5', '9', '7', '8'),\n",
        " ('0', '1', '2', '3', '4', '6', '5', '9', '8', '7')]"
       ]
      }
     ],
     "prompt_number": 12
    },
    {
     "cell_type": "code",
     "collapsed": false,
     "input": [],
     "language": "python",
     "metadata": {},
     "outputs": []
    }
   ],
   "metadata": {}
  }
 ]
}