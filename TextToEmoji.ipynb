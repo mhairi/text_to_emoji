{
 "metadata": {
  "name": "",
  "signature": "sha256:174dbbf02985f6cfbc258347e152d10f196f03a4acd6de764178231f8239e1ee"
 },
 "nbformat": 3,
 "nbformat_minor": 0,
 "worksheets": [
  {
   "cells": [
    {
     "cell_type": "code",
     "collapsed": false,
     "input": [
      "import tweepy\n",
      "import csv\n",
      "import collections\n",
      "import string\n",
      "import re"
     ],
     "language": "python",
     "metadata": {},
     "outputs": [],
     "prompt_number": 2
    },
    {
     "cell_type": "code",
     "collapsed": false,
     "input": [
      "convert = dict()\n",
      "with open('conversionTable.csv', 'r') as csvfile:\n",
      "    reader = csv.reader(csvfile)\n",
      "    for row in reader:\n",
      "        words = row[3:] #words are stored from third row onwards\n",
      "        for word in words:\n",
      "            if word != '':\n",
      "                try:\n",
      "                    convert[word]\n",
      "                except KeyError:\n",
      "                    convert[word] = row[0] #emoji code is stored in first row"
     ],
     "language": "python",
     "metadata": {},
     "outputs": [],
     "prompt_number": 15
    },
    {
     "cell_type": "code",
     "collapsed": false,
     "input": [
      "def to_character(string):\n",
      "    \"\"\"Takes a string which represents a unicode character and converts into that character\"\"\"\n",
      "    num = string[2:]\n",
      "    hex_num = int(num, 16)\n",
      "    return chr(hex_num)"
     ],
     "language": "python",
     "metadata": {},
     "outputs": [],
     "prompt_number": 16
    },
    {
     "cell_type": "code",
     "collapsed": true,
     "input": [
      "convert = {key.lower():to_character(code) for key,code in convert.items()}"
     ],
     "language": "python",
     "metadata": {},
     "outputs": [],
     "prompt_number": 17
    },
    {
     "cell_type": "code",
     "collapsed": false,
     "input": [
      "def text_to_emoji(string):\n",
      "    \"\"\"Takes a string and converts any words that can be converted to emojis\"\"\"\n",
      "    return re.sub(\"\\w+\", word_to_emoji, string)"
     ],
     "language": "python",
     "metadata": {},
     "outputs": [],
     "prompt_number": 18
    },
    {
     "cell_type": "code",
     "collapsed": false,
     "input": [
      "def word_to_emoji(match):\n",
      "    \"\"\"Takes a re match object and converts to to emoji if possible, otherwise returns the origional word\"\"\"\n",
      "    word = match.group()\n",
      "    lower_case = word.lower()\n",
      "    if lower_case in convert.keys():\n",
      "        return convert[lower_case]\n",
      "    else:\n",
      "        return word"
     ],
     "language": "python",
     "metadata": {},
     "outputs": [],
     "prompt_number": 19
    },
    {
     "cell_type": "code",
     "collapsed": false,
     "input": [
      "text_to_emoji(\"Man, I love my boat so much I could kiss it!\")"
     ],
     "language": "python",
     "metadata": {},
     "outputs": [
      {
       "metadata": {},
       "output_type": "pyout",
       "prompt_number": 20,
       "text": [
        "'\ud83d\udeb9, I \ud83d\ude0d my \u26f5 so much I could \ud83d\ude18 it!'"
       ]
      }
     ],
     "prompt_number": 20
    },
    {
     "cell_type": "code",
     "collapsed": false,
     "input": [
      "text_to_emoji(\"I wish I had a cake the size of a mountain!\")"
     ],
     "language": "python",
     "metadata": {},
     "outputs": [
      {
       "metadata": {},
       "output_type": "pyout",
       "prompt_number": 21,
       "text": [
        "'I wish I had a \ud83c\udf82 the size of a \ud83d\ude9e!'"
       ]
      }
     ],
     "prompt_number": 21
    },
    {
     "cell_type": "code",
     "collapsed": false,
     "input": [
      "text_to_emoji(\"Shopping list: aubergine, banana, tiger\")"
     ],
     "language": "python",
     "metadata": {},
     "outputs": [
      {
       "metadata": {},
       "output_type": "pyout",
       "prompt_number": 22,
       "text": [
        "'Shopping list: \ud83c\udf46, \ud83c\udf4c, \ud83d\udc2f'"
       ]
      }
     ],
     "prompt_number": 22
    },
    {
     "cell_type": "code",
     "collapsed": false,
     "input": [
      "text_to_emoji(\"Love you baby\")"
     ],
     "language": "python",
     "metadata": {},
     "outputs": [
      {
       "metadata": {},
       "output_type": "pyout",
       "prompt_number": 23,
       "text": [
        "'\ud83d\ude0d you \ud83d\udebc'"
       ]
      }
     ],
     "prompt_number": 23
    },
    {
     "cell_type": "code",
     "collapsed": false,
     "input": [],
     "language": "python",
     "metadata": {},
     "outputs": []
    }
   ],
   "metadata": {}
  }
 ]
}